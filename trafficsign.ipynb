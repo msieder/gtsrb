{
 "cells": [
  {
   "cell_type": "markdown",
   "metadata": {},
   "source": [
    "Importing relevant libraries"
   ]
  },
  {
   "cell_type": "code",
   "execution_count": 1,
   "metadata": {},
   "outputs": [],
   "source": [
    "import numpy as np\n",
    "import pandas as pd\n",
    "import matplotlib.pyplot as plt\n",
    "import csv\n",
    "from PIL import Image\n",
    "import time"
   ]
  },
  {
   "cell_type": "code",
   "execution_count": 2,
   "metadata": {},
   "outputs": [],
   "source": [
    "import tensorflow as tf \n",
    "from tensorflow.keras.models import Sequential\n",
    "from tensorflow.keras.layers import Dense, Dropout, Activation, Flatten, Conv2D, MaxPooling2D\n",
    "from tensorflow.keras.models import model_from_json"
   ]
  },
  {
   "cell_type": "markdown",
   "metadata": {},
   "source": [
    "Reading in the dataset"
   ]
  },
  {
   "cell_type": "code",
   "execution_count": 3,
   "metadata": {},
   "outputs": [],
   "source": [
    "def readTrafficSigns(rootpath,size=0,grey=False):\n",
    "    images = [] \n",
    "    labels = [] \n",
    "    height = []\n",
    "    width = []\n",
    "\n",
    "    for c in range(0,43):\n",
    "        prefix = rootpath + \"/\" + format(c, \"05d\") + \"/\"\n",
    "        gtFile = open(prefix + \"GT-\"+ format(c, \"05d\") + \".csv\") \n",
    "        gtReader = csv.reader(gtFile, delimiter=\";\") \n",
    "        next(gtReader)\n",
    "\n",
    "        for row in gtReader:\n",
    "            im_final = Image.open(prefix + row[0])\n",
    "            if(size!=0):\n",
    "                im_final = im_final.resize((size, size), Image.ANTIALIAS)\n",
    "            if(grey==True):\n",
    "                im_final=im_final.convert(\"L\")\n",
    "            images.append(np.array(im_final)) \n",
    "            labels.append(row[7])\n",
    "            height.append(row[2])\n",
    "            width.append(row[1])\n",
    "        gtFile.close()\n",
    "    return images, labels, width, height"
   ]
  },
  {
   "cell_type": "code",
   "execution_count": 4,
   "metadata": {},
   "outputs": [],
   "source": [
    "data = readTrafficSigns(\"./GTSRB/Final_Training/Images\")"
   ]
  },
  {
   "cell_type": "markdown",
   "metadata": {},
   "source": [
    "Dataset analysis"
   ]
  },
  {
   "cell_type": "code",
   "execution_count": 5,
   "metadata": {},
   "outputs": [
    {
     "name": "stdout",
     "output_type": "stream",
     "text": [
      "largest image: 243x225\n",
      "smallest image: 25x25\n"
     ]
    }
   ],
   "source": [
    "width = list(map(int, data[2]))\n",
    "height = list(map(int, data[3]))\n",
    "x=0\n",
    "for i in range(0,len(width)):\n",
    "    if(width[i]>x):\n",
    "        x=width[i]\n",
    "        y=i\n",
    "print(\"largest image: \"+str(width[y])+\"x\"+str(height[y]))\n",
    "for i in range(0,len(width)):\n",
    "    if(width[i]<=x):\n",
    "        if(height[i]<=x):\n",
    "            x=width[i]\n",
    "            z=i\n",
    "print(\"smallest image: \"+str(width[z])+\"x\"+str(height[z]))"
   ]
  },
  {
   "cell_type": "code",
   "execution_count": 6,
   "metadata": {},
   "outputs": [
    {
     "data": {
      "text/plain": [
       "Text(0, 0.5, 'No. of Images')"
      ]
     },
     "execution_count": 6,
     "metadata": {},
     "output_type": "execute_result"
    },
    {
     "data": {
      "image/png": "[encoded data removed]",
      "text/plain": [
       "<Figure size 432x288 with 1 Axes>"
      ]
     },
     "metadata": {
      "needs_background": "light"
     },
     "output_type": "display_data"
    }
   ],
   "source": [
    "size = pd.DataFrame(width)\n",
    "size = size[0].value_counts()\n",
    "size = pd.DataFrame(size)\n",
    "size = size.sort_index(axis=0)\n",
    "plt.plot(list(size.index),size[0],color=\"skyblue\")\n",
    "plt.xlabel (\"Image Width\")\n",
    "plt.ylabel (\"No. of Images\")\n",
    "#plt.savefig(\"imgsize.png\")"
   ]
  },
  {
   "cell_type": "code",
   "execution_count": 7,
   "metadata": {},
   "outputs": [
    {
     "data": {
      "text/plain": [
       "Text(0, 0.5, 'Relative Class Frequency [%]')"
      ]
     },
     "execution_count": 7,
     "metadata": {},
     "output_type": "execute_result"
    },
    {
     "data": {
      "image/png": "[encoded data removed]",
      "text/plain": [
       "<Figure size 432x288 with 1 Axes>"
      ]
     },
     "metadata": {
      "needs_background": "light"
     },
     "output_type": "display_data"
    }
   ],
   "source": [
    "labels = list(map(int, data[1]))\n",
    "labels = pd.DataFrame(labels)\n",
    "labels = labels[0].value_counts()\n",
    "labels = pd.DataFrame(labels)\n",
    "labels = labels.sort_index(axis=0)\n",
    "plt.bar(list(labels.index),labels[0]/len(data[1])*100,color=\"skyblue\")\n",
    "plt.xlabel (\"Class ID\")\n",
    "plt.ylabel (\"Relative Class Frequency [%]\")\n",
    "#plt.savefig(\"classdist.png\")"
   ]
  },
  {
   "cell_type": "code",
   "execution_count": 8,
   "metadata": {},
   "outputs": [
    {
     "name": "stdout",
     "output_type": "stream",
     "text": [
      "210\n",
      "2250\n"
     ]
    }
   ],
   "source": [
    "print(min(labels[0]))\n",
    "print(max(labels[0]))"
   ]
  },
  {
   "cell_type": "markdown",
   "metadata": {},
   "source": [
    "Data Preparation"
   ]
  },
  {
   "cell_type": "code",
   "execution_count": 9,
   "metadata": {},
   "outputs": [],
   "source": [
    "train = readTrafficSigns(\"./GTSRB/Final_Training/Images\",40)\n",
    "train_grey = readTrafficSigns(\"./GTSRB/Final_Training/Images\",40,True)\n",
    "train_small = readTrafficSigns(\"./GTSRB/Final_Training/Images\",30)"
   ]
  },
  {
   "cell_type": "code",
   "execution_count": 10,
   "metadata": {},
   "outputs": [],
   "source": [
    "X=np.array(train[0])\n",
    "X=X.astype(\"float32\")/255\n",
    "Y=np.array(train[1])\n",
    "\n",
    "X_grey=np.array(train_grey[0])\n",
    "X_grey=X_grey.astype(\"float32\")/255\n",
    "X_grey = X_grey.reshape(-1,40, 40, 1)\n",
    "\n",
    "X_small=np.array(train_small[0])\n",
    "X_small=X_small.astype(\"float32\")/255"
   ]
  },
  {
   "cell_type": "code",
   "execution_count": 11,
   "metadata": {},
   "outputs": [
    {
     "name": "stdout",
     "output_type": "stream",
     "text": [
      "WARNING:tensorflow:From C:\\Users\\Markus\\Anaconda3\\lib\\site-packages\\tensorflow\\python\\ops\\resource_variable_ops.py:435: colocate_with (from tensorflow.python.framework.ops) is deprecated and will be removed in a future version.\n",
      "Instructions for updating:\n",
      "Colocations handled automatically by placer.\n"
     ]
    }
   ],
   "source": [
    "model1 = Sequential()\n",
    "model1.add(Conv2D(16,(3,3), activation = \"relu\", input_shape=X.shape[1:]))\n",
    "model1.add(MaxPooling2D(2,2))\n",
    "model1.add(Conv2D(32,(3,3), activation = \"relu\"))\n",
    "model1.add(MaxPooling2D(2,2))\n",
    "model1.add(Conv2D(64,(3,3), activation = \"relu\"))\n",
    "model1.add(MaxPooling2D(2,2))\n",
    "model1.add(Flatten())\n",
    "model1.add(Dense(64,activation = \"relu\"))\n",
    "model1.add(Dense(43,activation = \"softmax\"))"
   ]
  },
  {
   "cell_type": "code",
   "execution_count": 34,
   "metadata": {},
   "outputs": [
    {
     "name": "stdout",
     "output_type": "stream",
     "text": [
      "_________________________________________________________________\n",
      "Layer (type)                 Output Shape              Param #   \n",
      "=================================================================\n",
      "conv2d (Conv2D)              (None, 38, 38, 16)        448       \n",
      "_________________________________________________________________\n",
      "max_pooling2d (MaxPooling2D) (None, 19, 19, 16)        0         \n",
      "_________________________________________________________________\n",
      "conv2d_1 (Conv2D)            (None, 17, 17, 32)        4640      \n",
      "_________________________________________________________________\n",
      "max_pooling2d_1 (MaxPooling2 (None, 8, 8, 32)          0         \n",
      "_________________________________________________________________\n",
      "conv2d_2 (Conv2D)            (None, 6, 6, 64)          18496     \n",
      "_________________________________________________________________\n",
      "max_pooling2d_2 (MaxPooling2 (None, 3, 3, 64)          0         \n",
      "_________________________________________________________________\n",
      "flatten (Flatten)            (None, 576)               0         \n",
      "_________________________________________________________________\n",
      "dense (Dense)                (None, 64)                36928     \n",
      "_________________________________________________________________\n",
      "dense_1 (Dense)              (None, 43)                2795      \n",
      "=================================================================\n",
      "Total params: 63,307\n",
      "Trainable params: 63,307\n",
      "Non-trainable params: 0\n",
      "_________________________________________________________________\n"
     ]
    }
   ],
   "source": [
    "model1.summary()"
   ]
  },
  {
   "cell_type": "code",
   "execution_count": 35,
   "metadata": {},
   "outputs": [
    {
     "name": "stdout",
     "output_type": "stream",
     "text": [
      "Epoch 1/10\n",
      "39209/39209 [==============================] - 16s 421us/sample - loss: 0.0183 - acc: 0.9952\n",
      "Epoch 2/10\n",
      "39209/39209 [==============================] - 16s 404us/sample - loss: 0.0083 - acc: 0.9981\n",
      "Epoch 3/10\n",
      "39209/39209 [==============================] - 13s 332us/sample - loss: 0.0170 - acc: 0.9960\n",
      "Epoch 4/10\n",
      "39209/39209 [==============================] - 13s 331us/sample - loss: 0.0120 - acc: 0.9968\n",
      "Epoch 5/10\n",
      "39209/39209 [==============================] - 13s 332us/sample - loss: 0.0114 - acc: 0.9966\n",
      "Epoch 6/10\n",
      "39209/39209 [==============================] - 13s 336us/sample - loss: 0.0108 - acc: 0.9975\n",
      "Epoch 7/10\n",
      "39209/39209 [==============================] - 13s 335us/sample - loss: 0.0126 - acc: 0.9966\n",
      "Epoch 8/10\n",
      "39209/39209 [==============================] - 13s 336us/sample - loss: 0.0080 - acc: 0.9982\n",
      "Epoch 9/10\n",
      "39209/39209 [==============================] - 13s 333us/sample - loss: 0.0087 - acc: 0.9979\n",
      "Epoch 10/10\n",
      "39209/39209 [==============================] - 13s 330us/sample - loss: 0.0146 - acc: 0.9966\n"
     ]
    }
   ],
   "source": [
    "model1.compile(optimizer=\"adam\",\n",
    "              loss=\"sparse_categorical_crossentropy\",\n",
    "              metrics=[\"accuracy\"])\n",
    "start = time.time()\n",
    "model1.fit(X, Y, epochs=10)\n",
    "end = time.time()\n",
    "model1_time= end-start"
   ]
  },
  {
   "cell_type": "code",
   "execution_count": 36,
   "metadata": {},
   "outputs": [],
   "source": [
    "model2 = Sequential()\n",
    "model2.add(Conv2D(16,(3,3), activation = \"relu\", input_shape=X_grey.shape[1:]))\n",
    "model2.add(MaxPooling2D(2,2))\n",
    "model2.add(Conv2D(32,(3,3), activation = \"relu\"))\n",
    "model2.add(MaxPooling2D(2,2))\n",
    "model2.add(Conv2D(64,(3,3), activation = \"relu\"))\n",
    "model2.add(MaxPooling2D(2,2))\n",
    "model2.add(Flatten())\n",
    "model2.add(Dense(64,activation = \"relu\"))\n",
    "model2.add(Dense(43,activation = \"softmax\"))"
   ]
  },
  {
   "cell_type": "code",
   "execution_count": 37,
   "metadata": {},
   "outputs": [
    {
     "name": "stdout",
     "output_type": "stream",
     "text": [
      "Epoch 1/10\n",
      "39209/39209 [==============================] - 18s 447us/sample - loss: 1.3472 - acc: 0.6436\n",
      "Epoch 2/10\n",
      "39209/39209 [==============================] - 17s 433us/sample - loss: 0.2299 - acc: 0.9371\n",
      "Epoch 3/10\n",
      "39209/39209 [==============================] - 17s 437us/sample - loss: 0.1159 - acc: 0.9692\n",
      "Epoch 4/10\n",
      "39209/39209 [==============================] - 17s 431us/sample - loss: 0.0799 - acc: 0.9778\n",
      "Epoch 5/10\n",
      "39209/39209 [==============================] - 17s 431us/sample - loss: 0.0606 - acc: 0.9831\n",
      "Epoch 6/10\n",
      "39209/39209 [==============================] - 17s 436us/sample - loss: 0.0451 - acc: 0.9869\n",
      "Epoch 7/10\n",
      "39209/39209 [==============================] - 17s 425us/sample - loss: 0.0399 - acc: 0.9887\n",
      "Epoch 8/10\n",
      "39209/39209 [==============================] - 17s 434us/sample - loss: 0.0324 - acc: 0.9911\n",
      "Epoch 9/10\n",
      "39209/39209 [==============================] - 17s 429us/sample - loss: 0.0309 - acc: 0.9916\n",
      "Epoch 10/10\n",
      "39209/39209 [==============================] - 17s 430us/sample - loss: 0.0253 - acc: 0.9930\n"
     ]
    }
   ],
   "source": [
    "model2.compile(optimizer=\"adam\",\n",
    "              loss=\"sparse_categorical_crossentropy\",\n",
    "              metrics=[\"accuracy\"])\n",
    "\n",
    "start = time.time()\n",
    "model2.fit(X_grey, Y, epochs=10)\n",
    "end = time.time()\n",
    "model2_time= end-start"
   ]
  },
  {
   "cell_type": "code",
   "execution_count": 38,
   "metadata": {},
   "outputs": [],
   "source": [
    "model3 = Sequential()\n",
    "model3.add(Conv2D(16,(3,3), activation = \"relu\", input_shape=X_small.shape[1:]))\n",
    "model3.add(MaxPooling2D(2,2))\n",
    "model3.add(Conv2D(32,(3,3), activation = \"relu\"))\n",
    "model3.add(MaxPooling2D(2,2))\n",
    "model3.add(Conv2D(64,(3,3), activation = \"relu\"))\n",
    "model3.add(MaxPooling2D(2,2))\n",
    "model3.add(Flatten())\n",
    "model3.add(Dense(64,activation = \"relu\"))\n",
    "model3.add(Dense(43,activation = \"softmax\"))"
   ]
  },
  {
   "cell_type": "code",
   "execution_count": 39,
   "metadata": {},
   "outputs": [
    {
     "name": "stdout",
     "output_type": "stream",
     "text": [
      "Epoch 1/10\n",
      "39209/39209 [==============================] - 9s 227us/sample - loss: 1.3304 - acc: 0.6327\n",
      "Epoch 2/10\n",
      "39209/39209 [==============================] - 9s 217us/sample - loss: 0.2172 - acc: 0.9404\n",
      "Epoch 3/10\n",
      "39209/39209 [==============================] - 8s 214us/sample - loss: 0.1106 - acc: 0.9697\n",
      "Epoch 4/10\n",
      "39209/39209 [==============================] - 8s 211us/sample - loss: 0.0706 - acc: 0.9804\n",
      "Epoch 5/10\n",
      "39209/39209 [==============================] - 8s 216us/sample - loss: 0.0518 - acc: 0.9858\n",
      "Epoch 6/10\n",
      "39209/39209 [==============================] - 11s 272us/sample - loss: 0.0404 - acc: 0.9889\n",
      "Epoch 7/10\n",
      "39209/39209 [==============================] - 9s 234us/sample - loss: 0.0287 - acc: 0.9918\n",
      "Epoch 8/10\n",
      "39209/39209 [==============================] - 11s 289us/sample - loss: 0.0308 - acc: 0.9908\n",
      "Epoch 9/10\n",
      "39209/39209 [==============================] - 8s 216us/sample - loss: 0.0236 - acc: 0.9933\n",
      "Epoch 10/10\n",
      "39209/39209 [==============================] - 8s 215us/sample - loss: 0.0212 - acc: 0.9939\n"
     ]
    }
   ],
   "source": [
    "model3.compile(optimizer=\"adam\",\n",
    "              loss=\"sparse_categorical_crossentropy\",\n",
    "              metrics=[\"accuracy\"])\n",
    "start = time.time()\n",
    "model3.fit(X_small, Y, epochs=10)\n",
    "end = time.time()\n",
    "model3_time= end-start"
   ]
  },
  {
   "cell_type": "code",
   "execution_count": 40,
   "metadata": {},
   "outputs": [],
   "source": [
    "model4 = Sequential()\n",
    "model4.add(Conv2D(32,(3,3), activation = \"relu\", input_shape=X.shape[1:]))\n",
    "model4.add(Conv2D(64,(3,3), activation = \"relu\"))\n",
    "model4.add(MaxPooling2D(2,2))\n",
    "model4.add(Conv2D(64,(3,3), activation = \"relu\"))\n",
    "model4.add(Conv2D(128,(3,3), activation = \"relu\"))\n",
    "model4.add(MaxPooling2D(2,2))\n",
    "model4.add(Flatten())\n",
    "model4.add(Dense(128,activation = \"relu\"))\n",
    "model4.add(Dropout(rate=0.5))\n",
    "model4.add(Dense(43,activation = \"softmax\"))"
   ]
  },
  {
   "cell_type": "code",
   "execution_count": 47,
   "metadata": {
    "scrolled": false
   },
   "outputs": [
    {
     "name": "stdout",
     "output_type": "stream",
     "text": [
      "Epoch 1/10\n",
      "39209/39209 [==============================] - 127s 3ms/sample - loss: 1.0924 - acc: 0.6894\n",
      "Epoch 2/10\n",
      "39209/39209 [==============================] - 126s 3ms/sample - loss: 0.2372 - acc: 0.9252\n",
      "Epoch 3/10\n",
      "39209/39209 [==============================] - 125s 3ms/sample - loss: 0.1339 - acc: 0.9571\n",
      "Epoch 4/10\n",
      "39209/39209 [==============================] - 123s 3ms/sample - loss: 0.0930 - acc: 0.9719\n",
      "Epoch 5/10\n",
      "39209/39209 [==============================] - 122s 3ms/sample - loss: 0.0715 - acc: 0.9764\n",
      "Epoch 6/10\n",
      "39209/39209 [==============================] - 122s 3ms/sample - loss: 0.0571 - acc: 0.9816\n",
      "Epoch 7/10\n",
      "39209/39209 [==============================] - 120s 3ms/sample - loss: 0.0498 - acc: 0.9840\n",
      "Epoch 8/10\n",
      "39209/39209 [==============================] - 120s 3ms/sample - loss: 0.0446 - acc: 0.9870\n",
      "Epoch 9/10\n",
      "39209/39209 [==============================] - 120s 3ms/sample - loss: 0.0371 - acc: 0.9882\n",
      "Epoch 10/10\n",
      "39209/39209 [==============================] - 119s 3ms/sample - loss: 0.0300 - acc: 0.9908s -\n"
     ]
    }
   ],
   "source": [
    "model4.compile(optimizer=\"adam\",\n",
    "              loss=\"sparse_categorical_crossentropy\",\n",
    "              metrics=[\"accuracy\"])\n",
    "\n",
    "start = time.time()\n",
    "model4.fit(X, Y, epochs=10)\n",
    "end = time.time()\n",
    "model4_time= end-start"
   ]
  },
  {
   "cell_type": "code",
   "execution_count": 68,
   "metadata": {},
   "outputs": [
    {
     "name": "stdout",
     "output_type": "stream",
     "text": [
      "Building time model 1: 137.54s\n",
      "Building time model 2: 170.902s\n",
      "Building time model 3: 91.751s\n",
      "Building time model 4: 1227.811s\n"
     ]
    }
   ],
   "source": [
    "print(\"Building time model 1: \"+str(round(model1_time,3))+\"s\")\n",
    "print(\"Building time model 2: \"+str(round(model2_time,3))+\"s\")\n",
    "print(\"Building time model 3: \"+str(round(model3_time,3))+\"s\")\n",
    "print(\"Building time model 4: \"+str(round(model4_time,3))+\"s\")"
   ]
  },
  {
   "cell_type": "markdown",
   "metadata": {},
   "source": [
    "Saving the models"
   ]
  },
  {
   "cell_type": "code",
   "execution_count": 279,
   "metadata": {},
   "outputs": [],
   "source": [
    "#model1_json = model1.to_json()\n",
    "#with open(\"model1.json\", \"w\") as json_file:\n",
    "#    json_file.write(model1_json)\n",
    "#model1.save_weights(\"model1.h5\")"
   ]
  },
  {
   "cell_type": "code",
   "execution_count": 278,
   "metadata": {},
   "outputs": [],
   "source": [
    "#model2_json = model2.to_json()\n",
    "#with open(\"model2.json\", \"w\") as json_file:\n",
    "#    json_file.write(model2_json)\n",
    "#model2.save_weights(\"model2.h5\")"
   ]
  },
  {
   "cell_type": "code",
   "execution_count": 277,
   "metadata": {},
   "outputs": [],
   "source": [
    "#model3_json = model3.to_json()\n",
    "#with open(\"model3.json\", \"w\") as json_file:\n",
    "#    json_file.write(model3_json)\n",
    "#model3.save_weights(\"model3.h5\")"
   ]
  },
  {
   "cell_type": "code",
   "execution_count": 276,
   "metadata": {},
   "outputs": [],
   "source": [
    "#model4_json = model4.to_json()\n",
    "#with open(\"model4.json\", \"w\") as json_file:\n",
    "#    json_file.write(model4_json)\n",
    "#model4.save_weights(\"model4.h5\")"
   ]
  },
  {
   "cell_type": "markdown",
   "metadata": {},
   "source": [
    "Reading the models again"
   ]
  },
  {
   "cell_type": "code",
   "execution_count": 11,
   "metadata": {},
   "outputs": [
    {
     "name": "stdout",
     "output_type": "stream",
     "text": [
      "WARNING:tensorflow:From C:\\Users\\Markus\\Anaconda3\\lib\\site-packages\\tensorflow\\python\\ops\\resource_variable_ops.py:435: colocate_with (from tensorflow.python.framework.ops) is deprecated and will be removed in a future version.\n",
      "Instructions for updating:\n",
      "Colocations handled automatically by placer.\n",
      "WARNING:tensorflow:From C:\\Users\\Markus\\Anaconda3\\lib\\site-packages\\tensorflow\\python\\keras\\layers\\core.py:143: calling dropout (from tensorflow.python.ops.nn_ops) with keep_prob is deprecated and will be removed in a future version.\n",
      "Instructions for updating:\n",
      "Please use `rate` instead of `keep_prob`. Rate should be set to `rate = 1 - keep_prob`.\n"
     ]
    }
   ],
   "source": [
    "json_file = open(\"model1.json\", \"r\")\n",
    "loaded_model_json = json_file.read()\n",
    "json_file.close()\n",
    "model1_load = model_from_json(loaded_model_json)\n",
    "model1_load.load_weights(\"model1.h5\")\n",
    "\n",
    "json_file = open(\"model2.json\", \"r\")\n",
    "loaded_model_json = json_file.read()\n",
    "json_file.close()\n",
    "model2_load = model_from_json(loaded_model_json)\n",
    "model2_load.load_weights(\"model2.h5\")\n",
    "\n",
    "json_file = open(\"model3.json\", \"r\")\n",
    "loaded_model_json = json_file.read()\n",
    "json_file.close()\n",
    "model3_load = model_from_json(loaded_model_json)\n",
    "model3_load.load_weights(\"model3.h5\")\n",
    "\n",
    "json_file = open(\"model4.json\", \"r\")\n",
    "loaded_model_json = json_file.read()\n",
    "json_file.close()\n",
    "model4_load = model_from_json(loaded_model_json)\n",
    "model4_load.load_weights(\"model4.h5\")"
   ]
  },
  {
   "cell_type": "markdown",
   "metadata": {},
   "source": [
    "Testing the models"
   ]
  },
  {
   "cell_type": "code",
   "execution_count": 13,
   "metadata": {},
   "outputs": [],
   "source": [
    "def readTestSigns(rootpath,size=0,grey=False):\n",
    "    images = []\n",
    "    labels = []\n",
    "    width = []\n",
    "    gtFile = open(rootpath + \"/GT-final_test.csv\")\n",
    "    gtReader = csv.reader(gtFile, delimiter=\";\")\n",
    "    next(gtReader)\n",
    "    for row in gtReader:\n",
    "        im_final = Image.open(rootpath + \"/\" + row[0])\n",
    "        if(size!=0):\n",
    "            im_final = im_final.resize((size, size), Image.ANTIALIAS)\n",
    "        if(grey==True):\n",
    "            im_final=im_final.convert(\"L\")\n",
    "        images.append(np.array(im_final)) \n",
    "        labels.append(row[7])\n",
    "        width.append(row[1])\n",
    "    gtFile.close()\n",
    "    return images, labels, width"
   ]
  },
  {
   "cell_type": "code",
   "execution_count": 14,
   "metadata": {},
   "outputs": [],
   "source": [
    "test = readTestSigns(\"./GTSRB/Final_Test/Images\",40)\n",
    "test_grey = readTestSigns(\"./GTSRB/Final_Test/Images\",40,grey=True)\n",
    "test_small = readTestSigns(\"./GTSRB/Final_Test/Images\",30)"
   ]
  },
  {
   "cell_type": "code",
   "execution_count": 15,
   "metadata": {},
   "outputs": [],
   "source": [
    "X_test=np.array(test[0])\n",
    "X_test=X_test.astype(\"float32\")/255\n",
    "Y_test=np.array(test[1])\n",
    "\n",
    "X_test_grey=np.array(test_grey[0])\n",
    "X_test_grey=X_test_grey.astype(\"float32\")/255\n",
    "X_test_grey = X_test_grey.reshape(-1,40, 40, 1)\n",
    "\n",
    "X_test_small=np.array(test_small[0])\n",
    "X_test_small=X_test_small.astype(\"float32\")/255"
   ]
  },
  {
   "cell_type": "code",
   "execution_count": 16,
   "metadata": {},
   "outputs": [],
   "source": [
    "truth= np.array(list(map(int,test[1])))"
   ]
  },
  {
   "cell_type": "markdown",
   "metadata": {},
   "source": [
    "Predictions"
   ]
  },
  {
   "cell_type": "code",
   "execution_count": 17,
   "metadata": {},
   "outputs": [],
   "source": [
    "times = []\n",
    "predictions = []\n",
    "accuracies = []\n",
    "s = time.time()\n",
    "pred = model1_load.predict_classes(X_test)\n",
    "e=time.time()\n",
    "times.append((e-s)/12630*1000)\n",
    "predictions.append(pred)\n",
    "accuracies.append(sum(pred==truth)/len(truth))\n",
    "\n",
    "s = time.time()\n",
    "pred = model2_load.predict_classes(X_test_grey)\n",
    "e=time.time()\n",
    "times.append((e-s)/12630*1000)\n",
    "predictions.append(pred)\n",
    "accuracies.append(sum(pred==truth)/len(truth))\n",
    "\n",
    "s = time.time()\n",
    "pred = model3_load.predict_classes(X_test_small)\n",
    "e=time.time()\n",
    "times.append((e-s)/12630*1000)\n",
    "predictions.append(pred)\n",
    "accuracies.append(sum(pred==truth)/len(truth))\n",
    "\n",
    "s = time.time()\n",
    "pred = model4_load.predict_classes(X_test)\n",
    "e=time.time()\n",
    "times.append((e-s)/12630*1000)\n",
    "predictions.append(pred)\n",
    "accuracies.append(sum(pred==truth)/len(truth))"
   ]
  },
  {
   "cell_type": "markdown",
   "metadata": {},
   "source": [
    "Analysis"
   ]
  },
  {
   "cell_type": "code",
   "execution_count": 18,
   "metadata": {},
   "outputs": [
    {
     "name": "stdout",
     "output_type": "stream",
     "text": [
      "Accuracies of models 1-4\n"
     ]
    },
    {
     "data": {
      "text/plain": [
       "[0.9478226444972289,\n",
       " 0.9342042755344419,\n",
       " 0.9255740300870943,\n",
       " 0.9768804433887569]"
      ]
     },
     "execution_count": 18,
     "metadata": {},
     "output_type": "execute_result"
    }
   ],
   "source": [
    "print(\"Accuracies of models 1-4\")\n",
    "accuracies"
   ]
  },
  {
   "cell_type": "code",
   "execution_count": 19,
   "metadata": {},
   "outputs": [
    {
     "name": "stdout",
     "output_type": "stream",
     "text": [
      "Prediction Time per sample in ms:\n"
     ]
    },
    {
     "data": {
      "text/plain": [
       "[0.12243947431574902,\n",
       " 0.10265801883555553,\n",
       " 0.07544753104094372,\n",
       " 1.3513846521989183]"
      ]
     },
     "execution_count": 19,
     "metadata": {},
     "output_type": "execute_result"
    }
   ],
   "source": [
    "print(\"Prediction Time per sample in ms:\")\n",
    "times"
   ]
  },
  {
   "cell_type": "markdown",
   "metadata": {},
   "source": [
    "Focus on model 4"
   ]
  },
  {
   "cell_type": "code",
   "execution_count": 20,
   "metadata": {},
   "outputs": [],
   "source": [
    "pred = predictions[3]\n",
    "acc = accuracies[3]"
   ]
  },
  {
   "cell_type": "code",
   "execution_count": 21,
   "metadata": {},
   "outputs": [],
   "source": [
    "recall = []\n",
    "precision = []\n",
    "for i in range (0,43):\n",
    "    a=truth[truth==i]\n",
    "    b=pred[truth==i]\n",
    "    c=truth[pred==i]\n",
    "    d=pred[pred==i]\n",
    "    recall.append(round(sum(a==b)/len(a),3))\n",
    "    precision.append(round(sum(c==d)/len(c),3))"
   ]
  },
  {
   "cell_type": "code",
   "execution_count": 22,
   "metadata": {},
   "outputs": [
    {
     "data": {
      "text/plain": [
       "Text(0, 0.5, 'Recall/Precision/Instances[x/max]')"
      ]
     },
     "execution_count": 22,
     "metadata": {},
     "output_type": "execute_result"
    },
    {
     "data": {
      "image/png": "[encoded data removed]",
      "text/plain": [
       "<Figure size 432x288 with 1 Axes>"
      ]
     },
     "metadata": {
      "needs_background": "light"
     },
     "output_type": "display_data"
    }
   ],
   "source": [
    "plt.plot(recall,color=\"mediumpurple\")\n",
    "plt.plot(precision,color=\"goldenrod\")\n",
    "plt.bar(list(labels.index),labels[0]/max(labels[0]),color=\"skyblue\")\n",
    "leg = plt.legend([\"recall\",\"precision\",\"# of instances\"],loc=5)\n",
    "plt.xlabel (\"Class ID\")\n",
    "plt.ylabel (\"Recall/Precision/Instances[x/max]\")\n",
    "#plt.savefig(\"acc_and_class.png\")"
   ]
  },
  {
   "cell_type": "code",
   "execution_count": 23,
   "metadata": {},
   "outputs": [],
   "source": [
    "recall_class = pd.DataFrame(data=[recall,precision,labels[0]])\n",
    "recall_class = recall_class.transpose()\n",
    "recall_class.columns = [\"recall\",\"precision\",\"amount\"]"
   ]
  },
  {
   "cell_type": "code",
   "execution_count": 24,
   "metadata": {},
   "outputs": [
    {
     "data": {
      "text/html": [
       "<div>\n",
       "<style scoped>\n",
       "    .dataframe tbody tr th:only-of-type {\n",
       "        vertical-align: middle;\n",
       "    }\n",
       "\n",
       "    .dataframe tbody tr th {\n",
       "        vertical-align: top;\n",
       "    }\n",
       "\n",
       "    .dataframe thead th {\n",
       "        text-align: right;\n",
       "    }\n",
       "</style>\n",
       "<table border=\"1\" class=\"dataframe\">\n",
       "  <thead>\n",
       "    <tr style=\"text-align: right;\">\n",
       "      <th></th>\n",
       "      <th>recall</th>\n",
       "      <th>precision</th>\n",
       "      <th>amount</th>\n",
       "    </tr>\n",
       "  </thead>\n",
       "  <tbody>\n",
       "    <tr>\n",
       "      <th>21</th>\n",
       "      <td>0.767</td>\n",
       "      <td>0.986</td>\n",
       "      <td>330.0</td>\n",
       "    </tr>\n",
       "    <tr>\n",
       "      <th>26</th>\n",
       "      <td>0.822</td>\n",
       "      <td>0.925</td>\n",
       "      <td>600.0</td>\n",
       "    </tr>\n",
       "    <tr>\n",
       "      <th>41</th>\n",
       "      <td>0.833</td>\n",
       "      <td>0.877</td>\n",
       "      <td>240.0</td>\n",
       "    </tr>\n",
       "    <tr>\n",
       "      <th>6</th>\n",
       "      <td>0.833</td>\n",
       "      <td>1.000</td>\n",
       "      <td>420.0</td>\n",
       "    </tr>\n",
       "    <tr>\n",
       "      <th>42</th>\n",
       "      <td>0.844</td>\n",
       "      <td>0.974</td>\n",
       "      <td>240.0</td>\n",
       "    </tr>\n",
       "  </tbody>\n",
       "</table>\n",
       "</div>"
      ],
      "text/plain": [
       "    recall  precision  amount\n",
       "21   0.767      0.986   330.0\n",
       "26   0.822      0.925   600.0\n",
       "41   0.833      0.877   240.0\n",
       "6    0.833      1.000   420.0\n",
       "42   0.844      0.974   240.0"
      ]
     },
     "execution_count": 24,
     "metadata": {},
     "output_type": "execute_result"
    }
   ],
   "source": [
    "recall_class.sort_values(by=\"recall\").head()"
   ]
  },
  {
   "cell_type": "code",
   "execution_count": 25,
   "metadata": {},
   "outputs": [
    {
     "data": {
      "text/html": [
       "<div>\n",
       "<style scoped>\n",
       "    .dataframe tbody tr th:only-of-type {\n",
       "        vertical-align: middle;\n",
       "    }\n",
       "\n",
       "    .dataframe tbody tr th {\n",
       "        vertical-align: top;\n",
       "    }\n",
       "\n",
       "    .dataframe thead th {\n",
       "        text-align: right;\n",
       "    }\n",
       "</style>\n",
       "<table border=\"1\" class=\"dataframe\">\n",
       "  <thead>\n",
       "    <tr style=\"text-align: right;\">\n",
       "      <th></th>\n",
       "      <th>recall</th>\n",
       "      <th>precision</th>\n",
       "      <th>amount</th>\n",
       "    </tr>\n",
       "  </thead>\n",
       "  <tbody>\n",
       "    <tr>\n",
       "      <th>20</th>\n",
       "      <td>0.989</td>\n",
       "      <td>0.840</td>\n",
       "      <td>360.0</td>\n",
       "    </tr>\n",
       "    <tr>\n",
       "      <th>41</th>\n",
       "      <td>0.833</td>\n",
       "      <td>0.877</td>\n",
       "      <td>240.0</td>\n",
       "    </tr>\n",
       "    <tr>\n",
       "      <th>5</th>\n",
       "      <td>0.983</td>\n",
       "      <td>0.905</td>\n",
       "      <td>1860.0</td>\n",
       "    </tr>\n",
       "    <tr>\n",
       "      <th>23</th>\n",
       "      <td>1.000</td>\n",
       "      <td>0.909</td>\n",
       "      <td>510.0</td>\n",
       "    </tr>\n",
       "    <tr>\n",
       "      <th>24</th>\n",
       "      <td>0.978</td>\n",
       "      <td>0.917</td>\n",
       "      <td>270.0</td>\n",
       "    </tr>\n",
       "  </tbody>\n",
       "</table>\n",
       "</div>"
      ],
      "text/plain": [
       "    recall  precision  amount\n",
       "20   0.989      0.840   360.0\n",
       "41   0.833      0.877   240.0\n",
       "5    0.983      0.905  1860.0\n",
       "23   1.000      0.909   510.0\n",
       "24   0.978      0.917   270.0"
      ]
     },
     "execution_count": 25,
     "metadata": {},
     "output_type": "execute_result"
    }
   ],
   "source": [
    "recall_class.sort_values(by=\"precision\").head()"
   ]
  },
  {
   "cell_type": "code",
   "execution_count": 26,
   "metadata": {},
   "outputs": [],
   "source": [
    "p = pd.Series(list(map(int,pred)))\n",
    "t = pd.Series(list(map(int,Y_test)))\n",
    "confmat = pd.crosstab(t, p,rownames=[\"Actual\"], colnames=[\"Predicted\"])\n",
    "confmat = confmat/confmat.sum(axis=1)"
   ]
  },
  {
   "cell_type": "code",
   "execution_count": 27,
   "metadata": {},
   "outputs": [
    {
     "data": {
      "image/png": "[encoded data removed]",
      "text/plain": [
       "<Figure size 432x288 with 2 Axes>"
      ]
     },
     "metadata": {
      "needs_background": "light"
     },
     "output_type": "display_data"
    }
   ],
   "source": [
    "ticks=np.linspace(0, 42,num=43)\n",
    "plt.imshow(confmat, interpolation=\"none\",cmap=\"terrain\")\n",
    "plt.colorbar()\n",
    "plt.xticks(ticks,fontsize=6)\n",
    "plt.yticks(ticks,fontsize=6)\n",
    "plt.grid(False)\n",
    "plt.show()\n",
    "#plt.savefig(\"confmat.png\")"
   ]
  },
  {
   "cell_type": "code",
   "execution_count": 28,
   "metadata": {},
   "outputs": [],
   "source": [
    "size_acc = pd.DataFrame(data=[list(map(int,test[2])),pred==truth])\n",
    "size_acc = size_acc.transpose()"
   ]
  },
  {
   "cell_type": "code",
   "execution_count": 30,
   "metadata": {},
   "outputs": [],
   "source": [
    "size = []\n",
    "\n",
    "for i in range (0,len(pred)):\n",
    "    if size_acc[0][i] <31:\n",
    "        size.append(1)\n",
    "    else:\n",
    "        if size_acc[0][i] <51:\n",
    "            size.append(2)\n",
    "        else:\n",
    "            if size_acc[0][i] <100:\n",
    "                size.append(3)\n",
    "            else:\n",
    "                size.append(4)\n",
    "size_acc[2]=size"
   ]
  },
  {
   "cell_type": "code",
   "execution_count": 31,
   "metadata": {},
   "outputs": [],
   "source": [
    "size_acc_1 = size_acc[size_acc[2]==1]\n",
    "size_acc_2 = size_acc[size_acc[2]==2]\n",
    "size_acc_3 = size_acc[size_acc[2]==3]\n",
    "size_acc_4 = size_acc[size_acc[2]==4]"
   ]
  },
  {
   "cell_type": "code",
   "execution_count": 32,
   "metadata": {},
   "outputs": [
    {
     "name": "stdout",
     "output_type": "stream",
     "text": [
      "0.94\n",
      "0.983\n",
      "0.984\n",
      "0.965\n"
     ]
    }
   ],
   "source": [
    "print(round(sum(size_acc_1[1])/len(size_acc_1),3))\n",
    "print(round(sum(size_acc_2[1])/len(size_acc_2),3))\n",
    "print(round(sum(size_acc_3[1])/len(size_acc_3),3))\n",
    "print(round(sum(size_acc_4[1])/len(size_acc_4),3))"
   ]
  },
  {
   "cell_type": "code",
   "execution_count": 34,
   "metadata": {},
   "outputs": [
    {
     "data": {
      "text/plain": [
       "Text(0, 0.5, 'Recall')"
      ]
     },
     "execution_count": 34,
     "metadata": {},
     "output_type": "execute_result"
    },
    {
     "data": {
      "image/png": "[encoded data removed]",
      "text/plain": [
       "<Figure size 432x288 with 1 Axes>"
      ]
     },
     "metadata": {
      "needs_background": "light"
     },
     "output_type": "display_data"
    }
   ],
   "source": [
    "recall_size_class = []\n",
    "twidth = size_acc[0]\n",
    "for i in list(size_acc[0].sort_values().unique()):\n",
    "    a=truth[twidth==i]\n",
    "    b=pred[twidth==i]\n",
    "    recall_size_class.append(round(sum(a==b)/len(a),3))\n",
    "plt.plot(list(size_acc[0].sort_values().unique()),recall_size_class,color=\"skyblue\")\n",
    "plt.xlabel (\"Image Width\")\n",
    "plt.ylabel (\"Recall\")\n",
    "#plt.savefig(\"Recall_Size.png\")"
   ]
  }
 ],
 "metadata": {
  "kernelspec": {
   "display_name": "Python 3",
   "language": "python",
   "name": "python3"
  },
  "language_info": {
   "codemirror_mode": {
    "name": "ipython",
    "version": 3
   },
   "file_extension": ".py",
   "mimetype": "text/x-python",
   "name": "python",
   "nbconvert_exporter": "python",
   "pygments_lexer": "ipython3",
   "version": "3.7.3"
  }
 },
 "nbformat": 4,
 "nbformat_minor": 2
}
